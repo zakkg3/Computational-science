{
  "nbformat": 4,
  "nbformat_minor": 0,
  "metadata": {
    "colab": {
      "name": "Untitled0.ipynb",
      "version": "0.3.2",
      "provenance": [],
      "include_colab_link": true
    },
    "kernelspec": {
      "name": "python3",
      "display_name": "Python 3"
    }
  },
  "cells": [
    {
      "cell_type": "markdown",
      "metadata": {
        "id": "view-in-github",
        "colab_type": "text"
      },
      "source": [
        "<a href=\"https://colab.research.google.com/github/zakkg3/Computational-science/blob/master/GoogleColab-Workspace.ipynb\" target=\"_parent\"><img src=\"https://colab.research.google.com/assets/colab-badge.svg\" alt=\"Open In Colab\"/></a>"
      ]
    },
    {
      "metadata": {
        "id": "9SLhiClFrCHR",
        "colab_type": "code",
        "outputId": "df03a4b3-3976-4d0d-84b8-6519eed86c90",
        "colab": {
          "base_uri": "https://localhost:8080/",
          "height": 67
        }
      },
      "cell_type": "code",
      "source": [
        "def isValidWalk(walk):\n",
        "    pos = [0,0]\n",
        "    for i in walk:\n",
        "        if i == 'n':\n",
        "            pos[0] += 1\n",
        "        if i == 's':\n",
        "            pos[0] -= 1\n",
        "        if i == 'e':\n",
        "            pos[1] += 1\n",
        "        if i == 'w':\n",
        "            pos[1] -= 1\n",
        "    distance = sum([abs(dir) for dir in pos])\n",
        "    print (pos)\n",
        "    print (distance,len(walk))\n",
        "\n",
        "    if distance == 0 and + len(walk) == 10:  #round trip\n",
        "        return True\n",
        "    else:\n",
        "        return False\n",
        "\n",
        "# print(isValidWalk(['n']))\n",
        "# print(isValidWalk(['n', 'w']))\n",
        "# print(isValidWalk(['n', 'n', 'w']))\n",
        "print(isValidWalk([\"s\", \"e\", \"w\", \"s\", \"s\", \"w\", \"e\", \"n\"]))"
      ],
      "execution_count": 1,
      "outputs": [
        {
          "output_type": "stream",
          "text": [
            "[-2, 0]\n",
            "2 8\n",
            "False\n"
          ],
          "name": "stdout"
        }
      ]
    }
  ]
}